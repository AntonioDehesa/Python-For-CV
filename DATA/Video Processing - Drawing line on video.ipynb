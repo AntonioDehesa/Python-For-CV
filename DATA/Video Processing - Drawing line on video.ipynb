{
 "cells": [
  {
   "cell_type": "code",
   "execution_count": 1,
   "metadata": {},
   "outputs": [],
   "source": [
    "import cv2\n",
    "\n",
    "cap = cv2.VideoCapture(0)\n",
    "\n",
    "width = int(cap.get(cv2.CAP_PROP_FRAME_WIDTH))\n",
    "height = int(cap.get(cv2.CAP_PROP_FRAME_HEIGHT))\n",
    "\n",
    "x = width//2\n",
    "y = height//2\n",
    "\n",
    "# width and heigth of rectangle\n",
    "w = width//4\n",
    "h = height//4\n",
    "\n",
    "while True: \n",
    "    ret, frame = cap.read()\n",
    "    cv2.rectangle(frame, (x,y), (x+w, y+h), color=(0,0,255),thickness=4)\n",
    "    cv2.imshow('frame' ,frame)\n",
    "    if cv2.waitKey(1) & 0xFF == ord('q'):\n",
    "        break\n",
    "cap.release()\n",
    "cv2.destroyAllWindows()"
   ]
  },
  {
   "cell_type": "code",
   "execution_count": 1,
   "metadata": {},
   "outputs": [],
   "source": [
    "import cv2\n",
    "\n",
    "cap = cv2.VideoCapture(0)\n",
    "\n",
    "##Callback function to draw rectangle\n",
    "def draw_rectangle(event, x,y, flags, param):\n",
    "    global pt1, pt2, topLeft_clicked, bottomRight_clicked\n",
    "    \n",
    "    if event == cv2.EVENT_LBUTTONDOWN:\n",
    "        if topLeft_clicked and bottomRight_clicked:\n",
    "            #RESET\n",
    "            pt1 = (0,0)\n",
    "            pt2 = (0,0)\n",
    "            topLeft_clicked = False\n",
    "            bottomRight_clicked = False\n",
    "        elif topLeft_clicked:\n",
    "            bottomRight_clicked = True\n",
    "            pt2 = (x,y)\n",
    "        else:\n",
    "            topLeft_clicked = True\n",
    "            pt1 = (x,y)\n",
    "##Global variables\n",
    "pt1 = (0,0)\n",
    "pt2 = (0,0)\n",
    "topLeft_clicked = False\n",
    "bottomRight_clicked = False\n",
    "##Connect to callback\n",
    "cv2.namedWindow('frame')\n",
    "cv2.setMouseCallback('frame', draw_rectangle)\n",
    "while True: \n",
    "    ret, frame = cap.read()\n",
    "    if topLeft_clicked:\n",
    "        cv2.circle(img=frame, center=pt1, radius=2, color=(0,0,255), thickness=-1)\n",
    "    if topLeft_clicked and bottomRight_clicked:\n",
    "        cv2.rectangle(frame, pt1=pt1, pt2=pt2, color=(0,0,255), thickness=3)\n",
    "    cv2.imshow('frame' ,frame)\n",
    "    if cv2.waitKey(1) & 0xFF == ord('q'):\n",
    "        break\n",
    "cap.release()\n",
    "cv2.destroyAllWindows()"
   ]
  },
  {
   "cell_type": "code",
   "execution_count": null,
   "metadata": {},
   "outputs": [],
   "source": []
  }
 ],
 "metadata": {
  "kernelspec": {
   "display_name": "Python 3",
   "language": "python",
   "name": "python3"
  },
  "language_info": {
   "codemirror_mode": {
    "name": "ipython",
    "version": 3
   },
   "file_extension": ".py",
   "mimetype": "text/x-python",
   "name": "python",
   "nbconvert_exporter": "python",
   "pygments_lexer": "ipython3",
   "version": "3.8.5"
  }
 },
 "nbformat": 4,
 "nbformat_minor": 4
}
