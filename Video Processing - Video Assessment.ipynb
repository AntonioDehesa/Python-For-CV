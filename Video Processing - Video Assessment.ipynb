{
 "cells": [
  {
   "cell_type": "code",
   "execution_count": 3,
   "metadata": {},
   "outputs": [],
   "source": [
    "import cv2\n",
    "# Global variables\n",
    "cap = cv2.VideoCapture(0)\n",
    "pt1 = (0,0)\n",
    "hasBeenClicked = False\n",
    "\n",
    "def circleCallback(event, x, y, flags, params):\n",
    "    global pt1, hasBeenClicked\n",
    "    if event == cv2.EVENT_LBUTTONDOWN:\n",
    "        pt1 = (x,y)\n",
    "        hasBeenClicked = False\n",
    "    elif event == cv2.EVENT_LBUTTONUP:\n",
    "        hasBeenClicked = True\n",
    "        pt1 = (x,y)\n",
    "cv2.namedWindow('frame')\n",
    "cv2.setMouseCallback('frame', circleCallback)\n",
    "while True:\n",
    "    ret, frame = cap.read()\n",
    "    if hasBeenClicked:\n",
    "        cv2.circle(img=frame, center=pt1, radius=10, color=(255,0,0), thickness=3)\n",
    "    cv2.imshow('frame', frame)\n",
    "    if cv2.waitKey(1) & 0xFF == ord('q'):\n",
    "        break\n",
    "cap.release()\n",
    "cv2.destroyAllWindows()\n",
    "    "
   ]
  },
  {
   "cell_type": "code",
   "execution_count": null,
   "metadata": {},
   "outputs": [],
   "source": []
  }
 ],
 "metadata": {
  "kernelspec": {
   "display_name": "Python 3",
   "language": "python",
   "name": "python3"
  },
  "language_info": {
   "codemirror_mode": {
    "name": "ipython",
    "version": 3
   },
   "file_extension": ".py",
   "mimetype": "text/x-python",
   "name": "python",
   "nbconvert_exporter": "python",
   "pygments_lexer": "ipython3",
   "version": "3.6.6"
  }
 },
 "nbformat": 4,
 "nbformat_minor": 2
}
